{
 "cells": [
  {
   "cell_type": "code",
   "execution_count": 15,
   "id": "340adc9e-54a6-4123-bf3a-e18d16b1504e",
   "metadata": {
    "tags": []
   },
   "outputs": [
    {
     "name": "stdout",
     "output_type": "stream",
     "text": [
      "Extracted files: ['/Users/inchan/Desktop/SWTerrane_SOWETO_Buffer200km.dbf', '/Users/inchan/Desktop/SWTerrane_SOWETO_Buffer200km.prj', '/Users/inchan/Desktop/SWTerrane_SOWETO_Buffer200km.sbn', '/Users/inchan/Desktop/SWTerrane_SOWETO_Buffer200km.sbx', '/Users/inchan/Desktop/SWTerrane_SOWETO_Buffer200km.shp', '/Users/inchan/Desktop/SWTerrane_SOWETO_Buffer200km.shx']\n",
      "Shapefiles found: ['/Users/inchan/Desktop/SWTerrane_SOWETO_Buffer200km.shp']\n"
     ]
    }
   ],
   "source": [
    "import os\n",
    "import zipfile\n",
    "\n",
    "def unzip_here(zip_filename: str):\n",
    "    \"\"\"\n",
    "    Extracts a .zip file into the same directory where the .zip file is located.\n",
    "    \"\"\"\n",
    "    script_dir = os.getcwd()\n",
    "    zip_path = os.path.join(script_dir, zip_filename)\n",
    "\n",
    "    if not os.path.exists(zip_path):\n",
    "        raise FileNotFoundError(f\"{zip_path} not found\")\n",
    "\n",
    "    # Extract into the same folder as the zip\n",
    "    with zipfile.ZipFile(zip_path, \"r\") as zip_ref:\n",
    "        zip_ref.extractall(script_dir)\n",
    "\n",
    "    extracted_files = zip_ref.namelist()\n",
    "    return [os.path.join(script_dir, f) for f in extracted_files]\n",
    "\n",
    "# Example usage\n",
    "if __name__ == \"__main__\":\n",
    "    zip_name = \"Southwest_WA_area.zip\"\n",
    "    files = unzip_here(zip_name)\n",
    "    print(\"Extracted files:\", files)\n",
    "\n",
    "    # If we only want shapefiles\n",
    "    shp_files = [f for f in files if f.endswith(\".shp\")]\n",
    "    print(\"Shapefiles found:\", shp_files)"
   ]
  }
 ],
 "metadata": {
  "kernelspec": {
   "display_name": "Python 3 (ipykernel)",
   "language": "python",
   "name": "python3"
  },
  "language_info": {
   "codemirror_mode": {
    "name": "ipython",
    "version": 3
   },
   "file_extension": ".py",
   "mimetype": "text/x-python",
   "name": "python",
   "nbconvert_exporter": "python",
   "pygments_lexer": "ipython3",
   "version": "3.11.7"
  }
 },
 "nbformat": 4,
 "nbformat_minor": 5
}
